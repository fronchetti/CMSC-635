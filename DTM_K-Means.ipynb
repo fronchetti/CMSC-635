{
 "cells": [
  {
   "cell_type": "code",
   "execution_count": null,
   "id": "5b454ca2",
   "metadata": {
    "scrolled": true
   },
   "outputs": [],
   "source": [
    "import os\n",
    "import decimal\n",
    "import numpy as np\n",
    "from csv import DictReader\n",
    "import matplotlib.pyplot as plt\n",
    "from tslearn.clustering import TimeSeriesKMeans\n",
    "from matplotlib.ticker import FormatStrFormatter\n",
    "\n",
    "if __name__ == '__main__':\n",
    "    developers_activities_file = open('developer_activities_per_project.csv' , 'r')\n",
    "    developers_activities = DictReader(developers_activities_file)\n",
    "    \n",
    "    developers = []\n",
    "    time_series = []\n",
    "    \n",
    "    secondary_columns = ['\\ufeffproject', 'developer', 'elite']\n",
    "\n",
    "    for developer in developers_activities:\n",
    "        developer_name = developer['developer']        \n",
    "        developer_time_series = [developer[column] for column in developers_activities.fieldnames if column not in secondary_columns]       \n",
    "        developer_time_series = [int(value) for value in developer_time_series]\n",
    "        developers.append(developer['developer'] )\n",
    "        time_series.append(developer_time_series)\n",
    "\n",
    "    from tslearn.clustering import TimeSeriesKMeans\n",
    "    X_train = time_series\n",
    "    seed = 0\n",
    "    np.random.seed(seed)\n",
    "    np.random.shuffle(X_train)\n",
    "    dba_km = TimeSeriesKMeans(n_clusters=3,\n",
    "                          n_init=10,\n",
    "                          metric=\"dtw\",\n",
    "                          # metric=\"euclidean\",\n",
    "                          verbose=True,\n",
    "                          max_iter_barycenter=10,\n",
    "                          random_state=seed)\n",
    "    y_dba_km = dba_km.fit(X_train)\n",
    "    \n",
    "        for yi in range(3):\n",
    "        figure = plt.figure()\n",
    "        plt.title('Cluster %d' % (yi + 1), fontsize=18)\n",
    "        plt.plot(dba_km.cluster_centers_[yi],'black')\n",
    "        plt.xlim([0, 46])\n",
    "        #plt.yticks(np.arange(0, 1.1, 0.2))\n",
    "        plt.xlabel('Months', fontsize=16)\n",
    "        plt.ylabel('Events', fontsize=16)\n",
    "\n",
    "\n",
    "        plt.xticks(fontsize=14)\n",
    "        plt.yticks(fontsize=14)\n",
    "    "
   ]
  },
  {
   "cell_type": "code",
   "execution_count": null,
   "id": "788231d8",
   "metadata": {},
   "outputs": [],
   "source": []
  },
  {
   "cell_type": "code",
   "execution_count": null,
   "id": "e93ad02a",
   "metadata": {},
   "outputs": [],
   "source": []
  }
 ],
 "metadata": {
  "kernelspec": {
   "display_name": "Python 3 (ipykernel)",
   "language": "python",
   "name": "python3"
  },
  "language_info": {
   "codemirror_mode": {
    "name": "ipython",
    "version": 3
   },
   "file_extension": ".py",
   "mimetype": "text/x-python",
   "name": "python",
   "nbconvert_exporter": "python",
   "pygments_lexer": "ipython3",
   "version": "3.9.7"
  }
 },
 "nbformat": 4,
 "nbformat_minor": 5
}
